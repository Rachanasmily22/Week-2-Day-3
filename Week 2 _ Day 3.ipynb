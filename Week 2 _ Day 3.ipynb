{
 "cells": [
  {
   "cell_type": "code",
   "execution_count": 1,
   "id": "57c9bf75-89b7-47ab-8ff6-e30ca135e270",
   "metadata": {},
   "outputs": [],
   "source": [
    "import pandas as pd"
   ]
  },
  {
   "cell_type": "code",
   "execution_count": 9,
   "id": "b1572c54-e73b-450e-a575-e7779824ea4d",
   "metadata": {},
   "outputs": [
    {
     "name": "stdout",
     "output_type": "stream",
     "text": [
      "Pandas Series:\n",
      "0    17\n",
      "1    18\n",
      "2    37\n",
      "3    43\n",
      "4    56\n",
      "5    33\n",
      "6    66\n",
      "dtype: int64\n"
     ]
    }
   ],
   "source": [
    "# Task -1 \n",
    "data = pd.Series([17, 18, 37, 43, 56, 33, 66])\n",
    "\n",
    "print(\"Pandas Series:\")\n",
    "print(data)"
   ]
  },
  {
   "cell_type": "code",
   "execution_count": 10,
   "id": "b299bf27-3da9-4777-830f-0250c55efef3",
   "metadata": {},
   "outputs": [
    {
     "name": "stdout",
     "output_type": "stream",
     "text": [
      "\n",
      "Mean value: 38.57142857142857\n",
      "Maximum value: 66\n",
      "Minimum value: 17\n"
     ]
    }
   ],
   "source": [
    "print(\"\\nMean value:\", data.mean())\n",
    "print(\"Maximum value:\", data.max())\n",
    "print(\"Minimum value:\", data.min())"
   ]
  },
  {
   "cell_type": "code",
   "execution_count": 4,
   "id": "cc84384b-84dd-4be5-bb8d-8eef202d3251",
   "metadata": {},
   "outputs": [],
   "source": [
    "import pandas as pd"
   ]
  },
  {
   "cell_type": "code",
   "execution_count": 12,
   "id": "89b77878-ce29-42c4-afa6-d41668e4f40f",
   "metadata": {},
   "outputs": [
    {
     "name": "stdout",
     "output_type": "stream",
     "text": [
      "Employee DataFrame:\n",
      "\n",
      "      Name  Age        Department  Salary\n",
      "0  Rachana   26  Data Engineering   95000\n",
      "1       JC   23         Analytics   88000\n",
      "2   Naveen   26                HR   76000\n",
      "3   Nithin   22           Finance  102000\n"
     ]
    }
   ],
   "source": [
    "# Task - 2\n",
    "data = {\n",
    "    \"Name\": [\"Rachana\", \"JC\", \"Naveen\", \"Nithin\"],\n",
    "    \"Age\": [26, 23, 26, 22],\n",
    "    \"Department\": [\"Data Engineering\", \"Analytics\", \"HR\", \"Finance\"],\n",
    "    \"Salary\": [95000, 88000, 76000, 102000]\n",
    "}\n",
    "\n",
    "df = pd.DataFrame(data)\n",
    "\n",
    "print(\"Employee DataFrame:\\n\")\n",
    "print(df)"
   ]
  },
  {
   "cell_type": "code",
   "execution_count": 8,
   "id": "4136f454-6892-4eed-bdec-9d761bb68104",
   "metadata": {},
   "outputs": [
    {
     "name": "stdout",
     "output_type": "stream",
     "text": [
      "\n",
      "Access 'Name' column:\n",
      "0    Rachana\n",
      "1         JC\n",
      "2     Naveen\n",
      "3     Nithin\n",
      "Name: Name, dtype: object\n",
      "\n",
      "Access 'Name' and 'Salary' columns:\n",
      "      Name  Salary\n",
      "0  Rachana   95000\n",
      "1       JC   88000\n",
      "2   Naveen   76000\n",
      "3   Nithin  102000\n"
     ]
    }
   ],
   "source": [
    "# Access a single column\n",
    "print(\"\\nAccess 'Name' column:\")\n",
    "print(df[\"Name\"])\n",
    "\n",
    "# Access multiple columns\n",
    "print(\"\\nAccess 'Name' and 'Salary' columns:\")\n",
    "print(df[[\"Name\", \"Salary\"]])"
   ]
  },
  {
   "cell_type": "code",
   "execution_count": null,
   "id": "e33633a6-2c18-4da1-afeb-5d1172eaa73f",
   "metadata": {},
   "outputs": [],
   "source": []
  }
 ],
 "metadata": {
  "kernelspec": {
   "display_name": "Python [conda env:base] *",
   "language": "python",
   "name": "conda-base-py"
  },
  "language_info": {
   "codemirror_mode": {
    "name": "ipython",
    "version": 3
   },
   "file_extension": ".py",
   "mimetype": "text/x-python",
   "name": "python",
   "nbconvert_exporter": "python",
   "pygments_lexer": "ipython3",
   "version": "3.13.5"
  }
 },
 "nbformat": 4,
 "nbformat_minor": 5
}
